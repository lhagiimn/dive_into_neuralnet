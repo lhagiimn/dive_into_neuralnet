{
 "cells": [
  {
   "cell_type": "markdown",
   "metadata": {
    "id": "aZ7S6jYZbh-_"
   },
   "source": [
    "Problem 1 Sharing and executing the official tutorial model"
   ]
  },
  {
   "cell_type": "code",
   "execution_count": 1,
   "metadata": {
    "colab": {
     "base_uri": "https://localhost:8080/",
     "height": 35
    },
    "id": "HjX61o35eDp7",
    "outputId": "be39169a-1a76-4229-f793-3353aa36a4cf"
   },
   "outputs": [
    {
     "name": "stderr",
     "output_type": "stream",
     "text": [
      "2024-01-29 14:40:27.536643: I tensorflow/core/platform/cpu_feature_guard.cc:193] This TensorFlow binary is optimized with oneAPI Deep Neural Network Library (oneDNN) to use the following CPU instructions in performance-critical operations:  AVX2 AVX_VNNI FMA\n",
      "To enable them in other operations, rebuild TensorFlow with the appropriate compiler flags.\n",
      "2024-01-29 14:40:27.604382: I tensorflow/core/util/util.cc:169] oneDNN custom operations are on. You may see slightly different numerical results due to floating-point round-off errors from different computation orders. To turn them off, set the environment variable `TF_ENABLE_ONEDNN_OPTS=0`.\n",
      "2024-01-29 14:40:27.622682: E tensorflow/stream_executor/cuda/cuda_blas.cc:2981] Unable to register cuBLAS factory: Attempting to register factory for plugin cuBLAS when one has already been registered\n",
      "2024-01-29 14:40:27.954865: W tensorflow/stream_executor/platform/default/dso_loader.cc:64] Could not load dynamic library 'libnvinfer.so.7'; dlerror: libnvinfer.so.7: cannot open shared object file: No such file or directory\n",
      "2024-01-29 14:40:27.954904: W tensorflow/stream_executor/platform/default/dso_loader.cc:64] Could not load dynamic library 'libnvinfer_plugin.so.7'; dlerror: libnvinfer_plugin.so.7: cannot open shared object file: No such file or directory\n",
      "2024-01-29 14:40:27.954912: W tensorflow/compiler/tf2tensorrt/utils/py_utils.cc:38] TF-TRT Warning: Cannot dlopen some TensorRT libraries. If you would like to use Nvidia GPU with TensorRT, please make sure the missing libraries mentioned above are installed properly.\n"
     ]
    }
   ],
   "source": [
    "import numpy as np\n",
    "import pandas as pd\n",
    "from sklearn.model_selection import train_test_split\n",
    "import tensorflow as tf\n",
    "import matplotlib.pyplot as plt\n",
    "from sklearn.preprocessing import StandardScaler"
   ]
  },
  {
   "cell_type": "code",
   "execution_count": 2,
   "metadata": {
    "colab": {
     "base_uri": "https://localhost:8080/"
    },
    "id": "eUHCb0er5gSL",
    "outputId": "85f50fc2-f74b-4292-fe6e-7f15e80e4cfa"
   },
   "outputs": [],
   "source": [
    "mnist = tf.keras.datasets.mnist\n",
    "\n",
    "(x_train, y_train), (x_test, y_test) = mnist.load_data()\n",
    "x_train, x_test = x_train / 255.0, x_test / 255.0"
   ]
  },
  {
   "cell_type": "code",
   "execution_count": 3,
   "metadata": {
    "id": "UOwYjk2Z5hR1"
   },
   "outputs": [
    {
     "name": "stderr",
     "output_type": "stream",
     "text": [
      "2024-01-29 14:40:28.711209: I tensorflow/stream_executor/cuda/cuda_gpu_executor.cc:980] successful NUMA node read from SysFS had negative value (-1), but there must be at least one NUMA node, so returning NUMA node zero\n",
      "2024-01-29 14:40:28.743790: W tensorflow/stream_executor/platform/default/dso_loader.cc:64] Could not load dynamic library 'libcudnn.so.8'; dlerror: libcudnn.so.8: cannot open shared object file: No such file or directory\n",
      "2024-01-29 14:40:28.743803: W tensorflow/core/common_runtime/gpu/gpu_device.cc:1934] Cannot dlopen some GPU libraries. Please make sure the missing libraries mentioned above are installed properly if you would like to use GPU. Follow the guide at https://www.tensorflow.org/install/gpu for how to download and setup the required libraries for your platform.\n",
      "Skipping registering GPU devices...\n",
      "2024-01-29 14:40:28.744254: I tensorflow/core/platform/cpu_feature_guard.cc:193] This TensorFlow binary is optimized with oneAPI Deep Neural Network Library (oneDNN) to use the following CPU instructions in performance-critical operations:  AVX2 AVX_VNNI FMA\n",
      "To enable them in other operations, rebuild TensorFlow with the appropriate compiler flags.\n"
     ]
    }
   ],
   "source": [
    "model = tf.keras.Sequential([tf.keras.layers.Flatten(input_shape=(28, 28)),\n",
    "                             tf.keras.layers.Dense(128, activation=tf.nn.relu),\n",
    "                             tf.keras.layers.Dropout(0.2),\n",
    "                             tf.keras.layers.Dense(10)])"
   ]
  },
  {
   "cell_type": "code",
   "execution_count": 4,
   "metadata": {
    "colab": {
     "base_uri": "https://localhost:8080/"
    },
    "id": "iE9mVVun6ddv",
    "outputId": "9c829526-0123-4bef-dab8-95518ace107d"
   },
   "outputs": [
    {
     "data": {
      "text/plain": [
       "array([[-0.17558599,  0.5522172 , -0.53299206, -0.02340041,  0.5343383 ,\n",
       "         0.38539118,  0.07109248,  0.43476442,  0.6447478 , -0.23490956]],\n",
       "      dtype=float32)"
      ]
     },
     "execution_count": 4,
     "metadata": {},
     "output_type": "execute_result"
    }
   ],
   "source": [
    "predictions = model(x_train[:1]).numpy()\n",
    "predictions"
   ]
  },
  {
   "cell_type": "code",
   "execution_count": 5,
   "metadata": {
    "colab": {
     "base_uri": "https://localhost:8080/"
    },
    "id": "IrBHLljc6z0y",
    "outputId": "51638e14-21a6-4b0d-a6d6-bcb6399b3bd7"
   },
   "outputs": [
    {
     "data": {
      "text/plain": [
       "array([[0.0664226 , 0.13752979, 0.04646184, 0.07734089, 0.13509275,\n",
       "        0.11639789, 0.08500548, 0.12228908, 0.15086284, 0.06259677]],\n",
       "      dtype=float32)"
      ]
     },
     "execution_count": 5,
     "metadata": {},
     "output_type": "execute_result"
    }
   ],
   "source": [
    "tf.nn.softmax(predictions).numpy()"
   ]
  },
  {
   "cell_type": "code",
   "execution_count": 6,
   "metadata": {
    "id": "xIPZ7uZs64P9"
   },
   "outputs": [],
   "source": [
    "loss_fn = tf.keras.losses.SparseCategoricalCrossentropy(from_logits=True)"
   ]
  },
  {
   "cell_type": "code",
   "execution_count": 7,
   "metadata": {
    "colab": {
     "base_uri": "https://localhost:8080/"
    },
    "id": "zjz1Jwfe65ln",
    "outputId": "c80d3ba8-5036-4a96-fe1b-77d471d9689b"
   },
   "outputs": [
    {
     "data": {
      "text/plain": [
       "2.1507406"
      ]
     },
     "execution_count": 7,
     "metadata": {},
     "output_type": "execute_result"
    }
   ],
   "source": [
    "loss_fn(y_train[:1], predictions).numpy()"
   ]
  },
  {
   "cell_type": "code",
   "execution_count": 8,
   "metadata": {
    "id": "--3dVaSn68Mv"
   },
   "outputs": [],
   "source": [
    "model.compile(loss=loss_fn,\n",
    "              optimizer='adam',\n",
    "              metrics=['accuracy'])"
   ]
  },
  {
   "cell_type": "code",
   "execution_count": 9,
   "metadata": {
    "colab": {
     "base_uri": "https://localhost:8080/"
    },
    "id": "Vd0Otg4M7Emc",
    "outputId": "345e805d-e0a8-4949-acd9-e36f1d2e39fd"
   },
   "outputs": [
    {
     "name": "stdout",
     "output_type": "stream",
     "text": [
      "Epoch 1/10\n",
      "1875/1875 [==============================] - 2s 810us/step - loss: 0.2937 - accuracy: 0.9142\n",
      "Epoch 2/10\n",
      "1875/1875 [==============================] - 1s 752us/step - loss: 0.1444 - accuracy: 0.9567\n",
      "Epoch 3/10\n",
      "1875/1875 [==============================] - 1s 733us/step - loss: 0.1077 - accuracy: 0.9667\n",
      "Epoch 4/10\n",
      "1875/1875 [==============================] - 2s 907us/step - loss: 0.0885 - accuracy: 0.9731\n",
      "Epoch 5/10\n",
      "1875/1875 [==============================] - 1s 734us/step - loss: 0.0750 - accuracy: 0.9762\n",
      "Epoch 6/10\n",
      "1875/1875 [==============================] - 1s 693us/step - loss: 0.0647 - accuracy: 0.9797\n",
      "Epoch 7/10\n",
      "1875/1875 [==============================] - 1s 746us/step - loss: 0.0575 - accuracy: 0.9811\n",
      "Epoch 8/10\n",
      "1875/1875 [==============================] - 1s 747us/step - loss: 0.0520 - accuracy: 0.9831\n",
      "Epoch 9/10\n",
      "1875/1875 [==============================] - 1s 750us/step - loss: 0.0460 - accuracy: 0.9847\n",
      "Epoch 10/10\n",
      "1875/1875 [==============================] - 2s 841us/step - loss: 0.0434 - accuracy: 0.9855\n"
     ]
    },
    {
     "data": {
      "text/plain": [
       "<keras.callbacks.History at 0x7ff77598b9a0>"
      ]
     },
     "execution_count": 9,
     "metadata": {},
     "output_type": "execute_result"
    }
   ],
   "source": [
    "model.fit(x_train, y_train, epochs=10)"
   ]
  },
  {
   "cell_type": "code",
   "execution_count": 10,
   "metadata": {
    "colab": {
     "base_uri": "https://localhost:8080/"
    },
    "id": "nqcr_MrW76F9",
    "outputId": "67899a25-1dbc-475d-bb4e-89cf4208335f"
   },
   "outputs": [
    {
     "name": "stdout",
     "output_type": "stream",
     "text": [
      "313/313 - 0s - loss: 0.0722 - accuracy: 0.9790 - 184ms/epoch - 588us/step\n"
     ]
    },
    {
     "data": {
      "text/plain": [
       "[0.07224106043577194, 0.9789999723434448]"
      ]
     },
     "execution_count": 10,
     "metadata": {},
     "output_type": "execute_result"
    }
   ],
   "source": [
    "model.evaluate(x_test,  y_test, verbose=2)"
   ]
  },
  {
   "cell_type": "code",
   "execution_count": 11,
   "metadata": {
    "id": "J85CoNhZ8J_v"
   },
   "outputs": [],
   "source": [
    "probability_model = tf.keras.Sequential([\n",
    "  model,\n",
    "  tf.keras.layers.Softmax()\n",
    "])"
   ]
  },
  {
   "cell_type": "code",
   "execution_count": 12,
   "metadata": {
    "colab": {
     "base_uri": "https://localhost:8080/"
    },
    "id": "6AsIviRt8LX6",
    "outputId": "05c6002d-924b-427e-bfca-7789731a85a7"
   },
   "outputs": [
    {
     "data": {
      "text/plain": [
       "<tf.Tensor: shape=(5, 10), dtype=float32, numpy=\n",
       "array([[8.84120055e-10, 4.61796361e-07, 9.11212155e-08, 3.57646991e-06,\n",
       "        1.92792154e-11, 9.76486092e-09, 1.91434596e-14, 9.99995828e-01,\n",
       "        2.19882845e-09, 2.03215791e-08],\n",
       "       [3.91989045e-11, 2.46981813e-06, 9.99997497e-01, 6.01490271e-08,\n",
       "        5.05666000e-22, 6.53014198e-10, 2.40929764e-14, 1.60005604e-19,\n",
       "        1.41733834e-08, 1.08961193e-13],\n",
       "       [1.69072673e-10, 9.99868274e-01, 1.34987931e-06, 1.00957863e-07,\n",
       "        4.24043037e-06, 4.14698093e-07, 1.52759901e-06, 3.73119583e-05,\n",
       "        8.67756607e-05, 1.17757026e-09],\n",
       "       [9.99976635e-01, 2.72682960e-10, 1.16900019e-05, 1.49831547e-09,\n",
       "        4.83217732e-09, 2.64231426e-06, 2.97507268e-06, 1.64457219e-07,\n",
       "        5.61293660e-08, 5.73147008e-06],\n",
       "       [1.83052928e-09, 8.32493186e-14, 5.89559335e-08, 1.68809879e-11,\n",
       "        9.99270976e-01, 1.00961950e-09, 5.92199623e-09, 1.81717482e-07,\n",
       "        4.21163087e-08, 7.28616491e-04]], dtype=float32)>"
      ]
     },
     "execution_count": 12,
     "metadata": {},
     "output_type": "execute_result"
    }
   ],
   "source": [
    "probability_model(x_test[:5])"
   ]
  },
  {
   "cell_type": "markdown",
   "metadata": {
    "id": "oqoiSosyeEJz"
   },
   "source": [
    "Iris binary classification with Keras"
   ]
  },
  {
   "cell_type": "code",
   "execution_count": 13,
   "metadata": {
    "id": "dxJDlRDq8WZb"
   },
   "outputs": [],
   "source": [
    "df = pd.read_csv(\"data/Iris.csv\")\n",
    "#Condition extraction from data frame\n",
    "df = df[(df[\"Species\"] == \"Iris-versicolor\") | (df[\"Species\"] == \"Iris-virginica\")]\n",
    "y = df[\"Species\"]\n",
    "X = df.loc[:, [\"SepalLengthCm\", \"SepalWidthCm\", \"PetalLengthCm\", \"PetalWidthCm\"]]\n",
    "# NumPy\n",
    "X = np.array(X)\n",
    "y = np.array(y)\n",
    "# Convert label to number\n",
    "y[y == \"Iris-versicolor\"] = 0\n",
    "y[y == \"Iris-virginica\"] = 1\n",
    "y = y.astype(np.int64)[:, np.newaxis]\n",
    "# Split into train and test\n",
    "X_train, X_test, y_train, y_test = train_test_split(X, y, test_size=0.2, random_state=0)\n",
    "# Split into train and val\n",
    "X_train, X_val, y_train, y_val = train_test_split(X_train, y_train, test_size=0.2, random_state=0)"
   ]
  },
  {
   "cell_type": "code",
   "execution_count": 14,
   "metadata": {
    "id": "DecFBDXKFI70"
   },
   "outputs": [],
   "source": [
    "scaler = StandardScaler()\n",
    "scaler.fit(X_train)\n",
    "X_train = scaler.transform(X_train)\n",
    "X_test = scaler.transform(X_test)\n",
    "X_val = scaler.transform(X_val)"
   ]
  },
  {
   "cell_type": "code",
   "execution_count": 15,
   "metadata": {
    "id": "qN0KPZQLFN15"
   },
   "outputs": [],
   "source": [
    "# Hyperparameters\n",
    "learning_rate = 0.01\n",
    "batch_size = 20\n",
    "num_epochs = 20\n",
    "n_hidden1 = 50\n",
    "n_hidden2 = 100\n",
    "n_input = X_train.shape[1]\n",
    "n_samples = X_train.shape[0]\n",
    "n_classes = 1"
   ]
  },
  {
   "cell_type": "code",
   "execution_count": 16,
   "metadata": {
    "id": "-jNKC1L69q_B"
   },
   "outputs": [],
   "source": [
    "model = tf.keras.Sequential()\n",
    "model.add(tf.keras.layers.Dense(n_hidden1, activation='relu', input_shape=(4,)))\n",
    "model.add(tf.keras.layers.Dense(n_hidden2, activation='relu'))\n",
    "model.add(tf.keras.layers.Dense(n_classes, activation='sigmoid'))"
   ]
  },
  {
   "cell_type": "code",
   "execution_count": 17,
   "metadata": {
    "colab": {
     "base_uri": "https://localhost:8080/"
    },
    "id": "DblegAy6Atiu",
    "outputId": "4b0c7093-44ab-433d-db37-19ad7b2573ef"
   },
   "outputs": [
    {
     "name": "stdout",
     "output_type": "stream",
     "text": [
      "Model: \"sequential_2\"\n",
      "_________________________________________________________________\n",
      " Layer (type)                Output Shape              Param #   \n",
      "=================================================================\n",
      " dense_2 (Dense)             (None, 50)                250       \n",
      "                                                                 \n",
      " dense_3 (Dense)             (None, 100)               5100      \n",
      "                                                                 \n",
      " dense_4 (Dense)             (None, 1)                 101       \n",
      "                                                                 \n",
      "=================================================================\n",
      "Total params: 5,451\n",
      "Trainable params: 5,451\n",
      "Non-trainable params: 0\n",
      "_________________________________________________________________\n"
     ]
    }
   ],
   "source": [
    "model.summary()"
   ]
  },
  {
   "cell_type": "code",
   "execution_count": 18,
   "metadata": {
    "id": "jfGj40H9_r1B"
   },
   "outputs": [],
   "source": [
    "model.compile(loss='binary_crossentropy',\n",
    "              optimizer=tf.optimizers.Adam(learning_rate=0.01),\n",
    "              metrics=['accuracy'])"
   ]
  },
  {
   "cell_type": "code",
   "execution_count": 19,
   "metadata": {
    "colab": {
     "base_uri": "https://localhost:8080/"
    },
    "id": "2gSVvsUEABAY",
    "outputId": "5aba36ea-a8fe-4c0c-97c4-643846f1366d"
   },
   "outputs": [
    {
     "name": "stdout",
     "output_type": "stream",
     "text": [
      "Epoch 1/20\n",
      "4/4 - 0s - loss: 0.5352 - accuracy: 0.7344 - val_loss: 0.2123 - val_accuracy: 0.9375 - 258ms/epoch - 65ms/step\n",
      "Epoch 2/20\n",
      "4/4 - 0s - loss: 0.2515 - accuracy: 0.9219 - val_loss: 0.0855 - val_accuracy: 0.9375 - 18ms/epoch - 5ms/step\n",
      "Epoch 3/20\n",
      "4/4 - 0s - loss: 0.1366 - accuracy: 0.9531 - val_loss: 0.0389 - val_accuracy: 1.0000 - 18ms/epoch - 4ms/step\n",
      "Epoch 4/20\n",
      "4/4 - 0s - loss: 0.0824 - accuracy: 0.9688 - val_loss: 0.0204 - val_accuracy: 1.0000 - 16ms/epoch - 4ms/step\n",
      "Epoch 5/20\n",
      "4/4 - 0s - loss: 0.0624 - accuracy: 0.9531 - val_loss: 0.0127 - val_accuracy: 1.0000 - 21ms/epoch - 5ms/step\n",
      "Epoch 6/20\n",
      "4/4 - 0s - loss: 0.0426 - accuracy: 0.9844 - val_loss: 0.0317 - val_accuracy: 1.0000 - 18ms/epoch - 5ms/step\n",
      "Epoch 7/20\n",
      "4/4 - 0s - loss: 0.0343 - accuracy: 0.9844 - val_loss: 0.0505 - val_accuracy: 0.9375 - 15ms/epoch - 4ms/step\n",
      "Epoch 8/20\n",
      "4/4 - 0s - loss: 0.0301 - accuracy: 0.9844 - val_loss: 0.0344 - val_accuracy: 1.0000 - 16ms/epoch - 4ms/step\n",
      "Epoch 9/20\n",
      "4/4 - 0s - loss: 0.0171 - accuracy: 1.0000 - val_loss: 0.0204 - val_accuracy: 1.0000 - 17ms/epoch - 4ms/step\n",
      "Epoch 10/20\n",
      "4/4 - 0s - loss: 0.0094 - accuracy: 1.0000 - val_loss: 0.0127 - val_accuracy: 1.0000 - 15ms/epoch - 4ms/step\n",
      "Epoch 11/20\n",
      "4/4 - 0s - loss: 0.0073 - accuracy: 1.0000 - val_loss: 0.0088 - val_accuracy: 1.0000 - 15ms/epoch - 4ms/step\n",
      "Epoch 12/20\n",
      "4/4 - 0s - loss: 0.0072 - accuracy: 1.0000 - val_loss: 0.0069 - val_accuracy: 1.0000 - 16ms/epoch - 4ms/step\n",
      "Epoch 13/20\n",
      "4/4 - 0s - loss: 0.0065 - accuracy: 1.0000 - val_loss: 0.0071 - val_accuracy: 1.0000 - 16ms/epoch - 4ms/step\n",
      "Epoch 14/20\n",
      "4/4 - 0s - loss: 0.0050 - accuracy: 1.0000 - val_loss: 0.0084 - val_accuracy: 1.0000 - 15ms/epoch - 4ms/step\n",
      "Epoch 15/20\n",
      "4/4 - 0s - loss: 0.0034 - accuracy: 1.0000 - val_loss: 0.0096 - val_accuracy: 1.0000 - 16ms/epoch - 4ms/step\n",
      "Epoch 16/20\n",
      "4/4 - 0s - loss: 0.0030 - accuracy: 1.0000 - val_loss: 0.0111 - val_accuracy: 1.0000 - 16ms/epoch - 4ms/step\n",
      "Epoch 17/20\n",
      "4/4 - 0s - loss: 0.0027 - accuracy: 1.0000 - val_loss: 0.0117 - val_accuracy: 1.0000 - 15ms/epoch - 4ms/step\n",
      "Epoch 18/20\n",
      "4/4 - 0s - loss: 0.0024 - accuracy: 1.0000 - val_loss: 0.0112 - val_accuracy: 1.0000 - 15ms/epoch - 4ms/step\n",
      "Epoch 19/20\n",
      "4/4 - 0s - loss: 0.0021 - accuracy: 1.0000 - val_loss: 0.0086 - val_accuracy: 1.0000 - 16ms/epoch - 4ms/step\n",
      "Epoch 20/20\n",
      "4/4 - 0s - loss: 0.0017 - accuracy: 1.0000 - val_loss: 0.0074 - val_accuracy: 1.0000 - 15ms/epoch - 4ms/step\n"
     ]
    }
   ],
   "source": [
    "history = model.fit(X_train, y_train,\n",
    "                    batch_size=batch_size,\n",
    "                    epochs=num_epochs,\n",
    "                    validation_data=(X_val, y_val),\n",
    "                    verbose=2)"
   ]
  },
  {
   "cell_type": "code",
   "execution_count": 20,
   "metadata": {
    "colab": {
     "base_uri": "https://localhost:8080/"
    },
    "id": "D3aL9gyTDnnm",
    "outputId": "e9054562-0fe0-4622-a722-78118a94d26a"
   },
   "outputs": [
    {
     "name": "stdout",
     "output_type": "stream",
     "text": [
      "Train loss: 0.0016376834828406572\n",
      "Train accuracy: 1.0\n"
     ]
    }
   ],
   "source": [
    "score = model.evaluate(X_train, y_train, verbose=0)\n",
    "print('Train loss:', score[0])\n",
    "print('Train accuracy:', score[1])"
   ]
  },
  {
   "cell_type": "markdown",
   "metadata": {
    "id": "908TLT0QEJ0X"
   },
   "source": [
    "Iris multi-level classification with Keras"
   ]
  },
  {
   "cell_type": "code",
   "execution_count": 22,
   "metadata": {
    "id": "Q7mUJb0ZEJSL"
   },
   "outputs": [],
   "source": [
    "from keras.utils import np_utils\n",
    "\n",
    "df = pd.read_csv(\"data/Iris.csv\")\n",
    "#Condition extraction from data frame\n",
    "y = df[\"Species\"]\n",
    "X = df.loc[:, [\"SepalLengthCm\", \"SepalWidthCm\", \"PetalLengthCm\", \"PetalWidthCm\"]]\n",
    "y = np.array(y)\n",
    "X = np.array(X).astype(np.float32)\n",
    "# Convert label to number\n",
    "y[y == \"Iris-setosa\"] = 0\n",
    "y[y == \"Iris-versicolor\"] = 1\n",
    "y[y == \"Iris-virginica\"] = 2\n",
    "# One Hot encoder\n",
    "y = np_utils.to_categorical(y)\n",
    "# Split into train and test\n",
    "X_train, X_test, y_train, y_test = train_test_split(X, y, test_size=0.2, random_state=0)\n",
    "# Split into train and val\n",
    "X_train, X_val, y_train, y_val = train_test_split(X_train, y_train, test_size=0.2, random_state=0)"
   ]
  },
  {
   "cell_type": "code",
   "execution_count": 23,
   "metadata": {
    "id": "TsacqbB_EUiL"
   },
   "outputs": [],
   "source": [
    "# Standardizing\n",
    "scaler = StandardScaler()\n",
    "scaler.fit(X_train)\n",
    "X_train = scaler.transform(X_train)\n",
    "X_test = scaler.transform(X_test)\n",
    "X_val = scaler.transform(X_val)"
   ]
  },
  {
   "cell_type": "code",
   "execution_count": 24,
   "metadata": {
    "id": "zAL5TiyWFyRe"
   },
   "outputs": [],
   "source": [
    "# Hyperparameters\n",
    "learning_rate = 0.01\n",
    "batch_size = 20\n",
    "num_epochs = 20\n",
    "n_hidden1 = 50\n",
    "n_hidden2 = 100\n",
    "n_input = X_train.shape[1]\n",
    "n_samples = X_train.shape[0]\n",
    "n_classes = 3"
   ]
  },
  {
   "cell_type": "code",
   "execution_count": 25,
   "metadata": {
    "id": "CYyScKjVEelU"
   },
   "outputs": [],
   "source": [
    "model = tf.keras.Sequential()\n",
    "model.add(tf.keras.Input(n_input))\n",
    "model.add(tf.keras.layers.Dense(n_hidden1, activation='relu'))\n",
    "model.add(tf.keras.layers.Dense(n_hidden2, activation='relu'))\n",
    "model.add(tf.keras.layers.Dense(n_classes, activation='sigmoid'))"
   ]
  },
  {
   "cell_type": "code",
   "execution_count": 26,
   "metadata": {
    "colab": {
     "base_uri": "https://localhost:8080/"
    },
    "id": "kr04YroTEelU",
    "outputId": "e393473d-21ee-4298-928e-220d28f33542"
   },
   "outputs": [
    {
     "name": "stdout",
     "output_type": "stream",
     "text": [
      "Model: \"sequential_3\"\n",
      "_________________________________________________________________\n",
      " Layer (type)                Output Shape              Param #   \n",
      "=================================================================\n",
      " dense_5 (Dense)             (None, 50)                250       \n",
      "                                                                 \n",
      " dense_6 (Dense)             (None, 100)               5100      \n",
      "                                                                 \n",
      " dense_7 (Dense)             (None, 3)                 303       \n",
      "                                                                 \n",
      "=================================================================\n",
      "Total params: 5,653\n",
      "Trainable params: 5,653\n",
      "Non-trainable params: 0\n",
      "_________________________________________________________________\n"
     ]
    }
   ],
   "source": [
    "model.summary()"
   ]
  },
  {
   "cell_type": "code",
   "execution_count": 27,
   "metadata": {
    "id": "2ePkkoqXEelV"
   },
   "outputs": [],
   "source": [
    "model.compile(loss='categorical_crossentropy',\n",
    "              optimizer=tf.optimizers.Adam(learning_rate=0.01),\n",
    "              metrics=['accuracy'])"
   ]
  },
  {
   "cell_type": "code",
   "execution_count": 28,
   "metadata": {
    "colab": {
     "base_uri": "https://localhost:8080/"
    },
    "id": "GFYDoIYDEelV",
    "outputId": "894e448b-aaae-474e-843f-98bde8c27adb"
   },
   "outputs": [
    {
     "name": "stdout",
     "output_type": "stream",
     "text": [
      "Epoch 1/20\n",
      "5/5 - 0s - loss: 0.7054 - accuracy: 0.6979 - val_loss: 0.4311 - val_accuracy: 0.7917 - 225ms/epoch - 45ms/step\n",
      "Epoch 2/20\n",
      "5/5 - 0s - loss: 0.3177 - accuracy: 0.8646 - val_loss: 0.3338 - val_accuracy: 0.7917 - 23ms/epoch - 5ms/step\n",
      "Epoch 3/20\n",
      "5/5 - 0s - loss: 0.2240 - accuracy: 0.9167 - val_loss: 0.3707 - val_accuracy: 0.7917 - 17ms/epoch - 3ms/step\n",
      "Epoch 4/20\n",
      "5/5 - 0s - loss: 0.1533 - accuracy: 0.9375 - val_loss: 0.3528 - val_accuracy: 0.7917 - 17ms/epoch - 3ms/step\n",
      "Epoch 5/20\n",
      "5/5 - 0s - loss: 0.1088 - accuracy: 0.9688 - val_loss: 0.3442 - val_accuracy: 0.7917 - 17ms/epoch - 3ms/step\n",
      "Epoch 6/20\n",
      "5/5 - 0s - loss: 0.0802 - accuracy: 0.9583 - val_loss: 0.3143 - val_accuracy: 0.8750 - 19ms/epoch - 4ms/step\n",
      "Epoch 7/20\n",
      "5/5 - 0s - loss: 0.0726 - accuracy: 0.9583 - val_loss: 0.3624 - val_accuracy: 0.8750 - 17ms/epoch - 3ms/step\n",
      "Epoch 8/20\n",
      "5/5 - 0s - loss: 0.0647 - accuracy: 0.9792 - val_loss: 0.3840 - val_accuracy: 0.8750 - 21ms/epoch - 4ms/step\n",
      "Epoch 9/20\n",
      "5/5 - 0s - loss: 0.0655 - accuracy: 0.9583 - val_loss: 0.2940 - val_accuracy: 0.9167 - 19ms/epoch - 4ms/step\n",
      "Epoch 10/20\n",
      "5/5 - 0s - loss: 0.0444 - accuracy: 0.9792 - val_loss: 0.3591 - val_accuracy: 0.9167 - 17ms/epoch - 3ms/step\n",
      "Epoch 11/20\n",
      "5/5 - 0s - loss: 0.0370 - accuracy: 0.9688 - val_loss: 0.2607 - val_accuracy: 0.9167 - 46ms/epoch - 9ms/step\n",
      "Epoch 12/20\n",
      "5/5 - 0s - loss: 0.0301 - accuracy: 1.0000 - val_loss: 0.3180 - val_accuracy: 0.9167 - 17ms/epoch - 3ms/step\n",
      "Epoch 13/20\n",
      "5/5 - 0s - loss: 0.0305 - accuracy: 0.9896 - val_loss: 0.3233 - val_accuracy: 0.9167 - 17ms/epoch - 3ms/step\n",
      "Epoch 14/20\n",
      "5/5 - 0s - loss: 0.0250 - accuracy: 0.9896 - val_loss: 0.2757 - val_accuracy: 0.9167 - 18ms/epoch - 4ms/step\n",
      "Epoch 15/20\n",
      "5/5 - 0s - loss: 0.0403 - accuracy: 0.9688 - val_loss: 0.3607 - val_accuracy: 0.9167 - 19ms/epoch - 4ms/step\n",
      "Epoch 16/20\n",
      "5/5 - 0s - loss: 0.0229 - accuracy: 1.0000 - val_loss: 0.3001 - val_accuracy: 0.9167 - 17ms/epoch - 3ms/step\n",
      "Epoch 17/20\n",
      "5/5 - 0s - loss: 0.0238 - accuracy: 1.0000 - val_loss: 0.3418 - val_accuracy: 0.9167 - 18ms/epoch - 4ms/step\n",
      "Epoch 18/20\n",
      "5/5 - 0s - loss: 0.0179 - accuracy: 1.0000 - val_loss: 0.2926 - val_accuracy: 0.9167 - 16ms/epoch - 3ms/step\n",
      "Epoch 19/20\n",
      "5/5 - 0s - loss: 0.0274 - accuracy: 0.9792 - val_loss: 0.3371 - val_accuracy: 0.9167 - 17ms/epoch - 3ms/step\n",
      "Epoch 20/20\n",
      "5/5 - 0s - loss: 0.0145 - accuracy: 0.9896 - val_loss: 0.3824 - val_accuracy: 0.9167 - 16ms/epoch - 3ms/step\n"
     ]
    }
   ],
   "source": [
    "history = model.fit(X_train, y_train,\n",
    "                    batch_size=batch_size,\n",
    "                    epochs=num_epochs,\n",
    "                    validation_data=(X_val, y_val),\n",
    "                    verbose=2)"
   ]
  },
  {
   "cell_type": "code",
   "execution_count": 29,
   "metadata": {
    "colab": {
     "base_uri": "https://localhost:8080/"
    },
    "id": "F_KkfvKQEelV",
    "outputId": "806af85f-ed06-40ae-af71-50cb520b43a0"
   },
   "outputs": [
    {
     "name": "stdout",
     "output_type": "stream",
     "text": [
      "Train loss: 0.01869351603090763\n",
      "Train accuracy: 0.9895833134651184\n",
      "Test loss: 0.007718940731137991\n",
      "Test accuracy: 1.0\n"
     ]
    }
   ],
   "source": [
    "train_score = model.evaluate(X_train, y_train, verbose=0)\n",
    "test_score = model.evaluate(X_test, y_test, verbose = 0)\n",
    "print('Train loss:', train_score[0])\n",
    "print('Train accuracy:', train_score[1])\n",
    "print('Test loss:', test_score[0])\n",
    "print('Test accuracy:', test_score[1])"
   ]
  },
  {
   "cell_type": "markdown",
   "metadata": {
    "id": "zMHm1IKjGbuc"
   },
   "source": [
    "House Prices with Keras"
   ]
  },
  {
   "cell_type": "code",
   "execution_count": 30,
   "metadata": {
    "id": "gouVHoQFGXz2"
   },
   "outputs": [],
   "source": [
    "df = pd.read_csv(\"data/train.csv\")\n",
    "#Condition extraction from data frame\n",
    "y = df[\"SalePrice\"]\n",
    "X = df.loc[:, [\"GrLivArea\", \"YearBuilt\"]]\n",
    "y = np.log(np.array(y).reshape(-1, 1))\n",
    "X = np.array(X).astype(np.float32)\n",
    "# Split into train and test\n",
    "X_train, X_test, y_train, y_test = train_test_split(X, y, test_size=0.2, random_state=0)\n",
    "# Split into train and test\n",
    "X_train, X_val, y_train, y_val = train_test_split(X_train, y_train, test_size=0.2, random_state=0)"
   ]
  },
  {
   "cell_type": "code",
   "execution_count": 31,
   "metadata": {
    "id": "jv3CW9w5GslQ"
   },
   "outputs": [],
   "source": [
    "# Hyperparameters\n",
    "learning_rate = 0.01\n",
    "batch_size = 20\n",
    "num_epochs = 20\n",
    "n_hidden1 = 50\n",
    "n_hidden2 = 100\n",
    "n_input = X_train.shape[1]\n",
    "n_samples = X_train.shape[0]\n",
    "n_class = 1"
   ]
  },
  {
   "cell_type": "code",
   "execution_count": 32,
   "metadata": {
    "id": "Eyf0MYNKG8G9"
   },
   "outputs": [],
   "source": [
    "model = tf.keras.Sequential()\n",
    "model.add(tf.keras.Input(n_input))\n",
    "model.add(tf.keras.layers.Dense(n_hidden1, activation='relu'))\n",
    "model.add(tf.keras.layers.Dense(n_hidden2, activation='relu'))\n",
    "model.add(tf.keras.layers.Dense(n_classes, activation='linear'))"
   ]
  },
  {
   "cell_type": "code",
   "execution_count": 33,
   "metadata": {
    "colab": {
     "base_uri": "https://localhost:8080/"
    },
    "id": "Lscfs4vzG8G-",
    "outputId": "c62f72ac-9c99-4490-c45d-b20ad2993994"
   },
   "outputs": [
    {
     "name": "stdout",
     "output_type": "stream",
     "text": [
      "Model: \"sequential_4\"\n",
      "_________________________________________________________________\n",
      " Layer (type)                Output Shape              Param #   \n",
      "=================================================================\n",
      " dense_8 (Dense)             (None, 50)                150       \n",
      "                                                                 \n",
      " dense_9 (Dense)             (None, 100)               5100      \n",
      "                                                                 \n",
      " dense_10 (Dense)            (None, 3)                 303       \n",
      "                                                                 \n",
      "=================================================================\n",
      "Total params: 5,553\n",
      "Trainable params: 5,553\n",
      "Non-trainable params: 0\n",
      "_________________________________________________________________\n"
     ]
    }
   ],
   "source": [
    "model.summary()"
   ]
  },
  {
   "cell_type": "code",
   "execution_count": 34,
   "metadata": {
    "id": "YANUinfEG8G-"
   },
   "outputs": [],
   "source": [
    "model.compile(loss='mean_squared_error',\n",
    "              optimizer=tf.optimizers.Adagrad(learning_rate=0.005),\n",
    "              metrics=['mse'])"
   ]
  },
  {
   "cell_type": "code",
   "execution_count": 35,
   "metadata": {
    "colab": {
     "base_uri": "https://localhost:8080/"
    },
    "id": "ViA4lvyHG8G-",
    "outputId": "859c2cfa-e900-4fa8-f254-f490872923fd"
   },
   "outputs": [
    {
     "name": "stdout",
     "output_type": "stream",
     "text": [
      "Epoch 1/20\n",
      "47/47 - 0s - loss: 1362.2080 - mse: 1362.2079 - val_loss: 7.5341 - val_mse: 7.5341 - 222ms/epoch - 5ms/step\n",
      "Epoch 2/20\n",
      "47/47 - 0s - loss: 10.7079 - mse: 10.7079 - val_loss: 6.4974 - val_mse: 6.4974 - 33ms/epoch - 711us/step\n",
      "Epoch 3/20\n",
      "47/47 - 0s - loss: 6.4519 - mse: 6.4519 - val_loss: 4.4065 - val_mse: 4.4065 - 34ms/epoch - 725us/step\n",
      "Epoch 4/20\n",
      "47/47 - 0s - loss: 6.4357 - mse: 6.4357 - val_loss: 2.0653 - val_mse: 2.0653 - 36ms/epoch - 755us/step\n",
      "Epoch 5/20\n",
      "47/47 - 0s - loss: 2.8843 - mse: 2.8843 - val_loss: 6.3725 - val_mse: 6.3725 - 41ms/epoch - 864us/step\n",
      "Epoch 6/20\n",
      "47/47 - 0s - loss: 3.2060 - mse: 3.2060 - val_loss: 2.1895 - val_mse: 2.1895 - 35ms/epoch - 752us/step\n",
      "Epoch 7/20\n",
      "47/47 - 0s - loss: 2.2044 - mse: 2.2044 - val_loss: 1.8814 - val_mse: 1.8814 - 33ms/epoch - 704us/step\n",
      "Epoch 8/20\n",
      "47/47 - 0s - loss: 2.2246 - mse: 2.2246 - val_loss: 2.1498 - val_mse: 2.1498 - 33ms/epoch - 709us/step\n",
      "Epoch 9/20\n",
      "47/47 - 0s - loss: 2.1222 - mse: 2.1222 - val_loss: 1.0357 - val_mse: 1.0357 - 43ms/epoch - 924us/step\n",
      "Epoch 10/20\n",
      "47/47 - 0s - loss: 1.7186 - mse: 1.7186 - val_loss: 0.9131 - val_mse: 0.9131 - 35ms/epoch - 754us/step\n",
      "Epoch 11/20\n",
      "47/47 - 0s - loss: 1.4984 - mse: 1.4984 - val_loss: 1.0498 - val_mse: 1.0498 - 35ms/epoch - 742us/step\n",
      "Epoch 12/20\n",
      "47/47 - 0s - loss: 1.4041 - mse: 1.4041 - val_loss: 1.4993 - val_mse: 1.4993 - 33ms/epoch - 693us/step\n",
      "Epoch 13/20\n",
      "47/47 - 0s - loss: 1.4767 - mse: 1.4767 - val_loss: 1.4024 - val_mse: 1.4024 - 35ms/epoch - 737us/step\n",
      "Epoch 14/20\n",
      "47/47 - 0s - loss: 1.5599 - mse: 1.5599 - val_loss: 0.8514 - val_mse: 0.8514 - 36ms/epoch - 766us/step\n",
      "Epoch 15/20\n",
      "47/47 - 0s - loss: 1.0000 - mse: 1.0000 - val_loss: 0.8528 - val_mse: 0.8528 - 30ms/epoch - 644us/step\n",
      "Epoch 16/20\n",
      "47/47 - 0s - loss: 1.0635 - mse: 1.0635 - val_loss: 1.1112 - val_mse: 1.1112 - 37ms/epoch - 787us/step\n",
      "Epoch 17/20\n",
      "47/47 - 0s - loss: 0.9855 - mse: 0.9855 - val_loss: 0.9014 - val_mse: 0.9014 - 32ms/epoch - 683us/step\n",
      "Epoch 18/20\n",
      "47/47 - 0s - loss: 0.9359 - mse: 0.9359 - val_loss: 0.5660 - val_mse: 0.5660 - 30ms/epoch - 648us/step\n",
      "Epoch 19/20\n",
      "47/47 - 0s - loss: 0.8867 - mse: 0.8867 - val_loss: 0.6711 - val_mse: 0.6711 - 33ms/epoch - 696us/step\n",
      "Epoch 20/20\n",
      "47/47 - 0s - loss: 0.7823 - mse: 0.7823 - val_loss: 0.8687 - val_mse: 0.8687 - 34ms/epoch - 726us/step\n"
     ]
    }
   ],
   "source": [
    "history = model.fit(X_train, y_train,\n",
    "                    batch_size=batch_size,\n",
    "                    epochs=num_epochs,\n",
    "                    validation_data=(X_val, y_val),\n",
    "                    verbose=2)"
   ]
  },
  {
   "cell_type": "code",
   "execution_count": 36,
   "metadata": {
    "colab": {
     "base_uri": "https://localhost:8080/"
    },
    "id": "5f25f98jG8G-",
    "outputId": "e27d40fe-c036-4692-f024-0f2fb1687a57"
   },
   "outputs": [
    {
     "name": "stdout",
     "output_type": "stream",
     "text": [
      "Train loss: 0.9579890370368958\n",
      "Train mse: 0.9579890370368958\n",
      "Test loss: 5.3781304359436035\n",
      "Test mse: 5.3781304359436035\n"
     ]
    }
   ],
   "source": [
    "train_score = model.evaluate(X_train, y_train, verbose=0)\n",
    "test_score = model.evaluate(X_test, y_test, verbose = 0)\n",
    "print('Train loss:', train_score[0])\n",
    "print('Train mse:', train_score[1])\n",
    "print('Test loss:', test_score[0])\n",
    "print('Test mse:', test_score[1])"
   ]
  },
  {
   "cell_type": "markdown",
   "metadata": {
    "id": "fV5uJn99ILmd"
   },
   "source": [
    "MNIST with Keras"
   ]
  },
  {
   "cell_type": "code",
   "execution_count": 37,
   "metadata": {
    "id": "ODYZeFQ3t65C"
   },
   "outputs": [],
   "source": [
    "from keras.datasets import mnist\n",
    "(X_train, y_train), (X_test, y_test) = mnist.load_data()"
   ]
  },
  {
   "cell_type": "code",
   "execution_count": 38,
   "metadata": {
    "colab": {
     "base_uri": "https://localhost:8080/"
    },
    "id": "Vrzmqf26t932",
    "outputId": "957b1158-7e98-4c09-f919-3eb31670c7e1"
   },
   "outputs": [
    {
     "name": "stdout",
     "output_type": "stream",
     "text": [
      "(60000, 28, 28)\n",
      "(60000,)\n",
      "(10000, 28, 28)\n",
      "(10000,)\n",
      "uint8\n"
     ]
    }
   ],
   "source": [
    "print(X_train.shape) # (60000, 28, 28)\n",
    "print(y_train.shape) # (10000, 28, 28)\n",
    "print(X_test.shape) # (10000, 28, 28)\n",
    "print(y_test.shape)\n",
    "print(X_train[0].dtype) # uint8"
   ]
  },
  {
   "cell_type": "code",
   "execution_count": 40,
   "metadata": {
    "colab": {
     "base_uri": "https://localhost:8080/",
     "height": 282
    },
    "id": "o7Vfb9qTuOaf",
    "outputId": "fb9c65f1-6330-4a16-9726-faaca2cfd7fd"
   },
   "outputs": [
    {
     "data": {
      "image/png": "[encoded data removed]",
      "text/plain": [
       "<Figure size 640x480 with 1 Axes>"
      ]
     },
     "metadata": {},
     "output_type": "display_data"
    }
   ],
   "source": [
    "index = 0\n",
    "image = X_train[index].reshape(28,28)\n",
    "# X_train[index]: (784,)\n",
    "# image: (28, 28)\n",
    "plt.imshow(image, 'gray')\n",
    "plt.title('label : {}'.format(y_train[index]))\n",
    "plt.show()"
   ]
  },
  {
   "cell_type": "code",
   "execution_count": 41,
   "metadata": {
    "id": "nBKGgl49M5Rw"
   },
   "outputs": [],
   "source": [
    "import numpy as np\n",
    "from sklearn.model_selection import train_test_split\n",
    "from sklearn.preprocessing import OneHotEncoder\n",
    "from keras.datasets import mnist\n",
    "from sklearn.metrics import accuracy_score"
   ]
  },
  {
   "cell_type": "code",
   "execution_count": 42,
   "metadata": {
    "colab": {
     "base_uri": "https://localhost:8080/"
    },
    "id": "ipclmDklcKWm",
    "outputId": "e24c5e93-1b74-4302-d957-5e954d9e24ca"
   },
   "outputs": [
    {
     "name": "stderr",
     "output_type": "stream",
     "text": [
      "/tmp/ipykernel_43221/4002362067.py:4: DeprecationWarning: `np.float` is a deprecated alias for the builtin `float`. To silence this warning, use `float` by itself. Doing this will not modify any behavior and is safe. If you specifically wanted the numpy scalar type, use `np.float64` here.\n",
      "Deprecated in NumPy 1.20; for more details and guidance: https://numpy.org/devdocs/release/1.20.0-notes.html#deprecations\n",
      "  X_train = X_train.astype(np.float)\n",
      "/tmp/ipykernel_43221/4002362067.py:5: DeprecationWarning: `np.float` is a deprecated alias for the builtin `float`. To silence this warning, use `float` by itself. Doing this will not modify any behavior and is safe. If you specifically wanted the numpy scalar type, use `np.float64` here.\n",
      "Deprecated in NumPy 1.20; for more details and guidance: https://numpy.org/devdocs/release/1.20.0-notes.html#deprecations\n",
      "  X_test = X_test.astype(np.float)\n",
      "/home/lkhagvadorj/.local/lib/python3.10/site-packages/sklearn/preprocessing/_encoders.py:975: FutureWarning: `sparse` was renamed to `sparse_output` in version 1.2 and will be removed in 1.4. `sparse_output` is ignored unless you leave `sparse` to its default value.\n",
      "  warnings.warn(\n"
     ]
    },
    {
     "name": "stdout",
     "output_type": "stream",
     "text": [
      "(48000, 784)\n",
      "(10000, 784)\n"
     ]
    }
   ],
   "source": [
    "X_train = X_train.reshape(-1, 784)\n",
    "X_test = X_test.reshape(-1, 784)\n",
    "\n",
    "X_train = X_train.astype(np.float)\n",
    "X_test = X_test.astype(np.float)\n",
    "X_train = X_train / 255.0\n",
    "X_test = X_test / 255.0\n",
    "\n",
    "enc = OneHotEncoder(handle_unknown='ignore', sparse=False)\n",
    "y_train_one_hot = enc.fit_transform(y_train[:, np.newaxis])\n",
    "y_test_one_hot = enc.transform(y_test[:, np.newaxis])\n",
    "\n",
    "X_train, X_val, y_train, y_val = train_test_split(X_train, y_train_one_hot, test_size=0.2)\n",
    "\n",
    "print(X_train.shape)\n",
    "print(X_test.shape)"
   ]
  },
  {
   "cell_type": "code",
   "execution_count": 43,
   "metadata": {
    "id": "jp3ph50sIcnE"
   },
   "outputs": [],
   "source": [
    "# Hyperparameters\n",
    "learning_rate = 0.01\n",
    "batch_size = 20\n",
    "num_epochs = 10\n",
    "n_hidden1 = 50\n",
    "n_hidden2 = 100\n",
    "n_input = X_train.shape[1]\n",
    "n_samples = X_train.shape[0]\n",
    "n_classes = 10"
   ]
  },
  {
   "cell_type": "markdown",
   "metadata": {
    "id": "P3TFPQ4CIfb-"
   },
   "source": [
    "**Model structure**"
   ]
  },
  {
   "cell_type": "code",
   "execution_count": 44,
   "metadata": {
    "id": "ms1Wxy4YIcnE"
   },
   "outputs": [],
   "source": [
    "model = tf.keras.Sequential()\n",
    "model.add(tf.keras.Input(n_input))\n",
    "model.add(tf.keras.layers.Dense(n_hidden1, activation='relu'))\n",
    "model.add(tf.keras.layers.Dense(n_hidden2, activation='relu'))\n",
    "model.add(tf.keras.layers.Dense(n_classes, activation='softmax'))"
   ]
  },
  {
   "cell_type": "code",
   "execution_count": 45,
   "metadata": {
    "colab": {
     "base_uri": "https://localhost:8080/"
    },
    "id": "ajvGS2vMIcnF",
    "outputId": "3e6f817e-ba5a-44dc-8dd1-a8bd32b20f25"
   },
   "outputs": [
    {
     "name": "stdout",
     "output_type": "stream",
     "text": [
      "Model: \"sequential_5\"\n",
      "_________________________________________________________________\n",
      " Layer (type)                Output Shape              Param #   \n",
      "=================================================================\n",
      " dense_11 (Dense)            (None, 50)                39250     \n",
      "                                                                 \n",
      " dense_12 (Dense)            (None, 100)               5100      \n",
      "                                                                 \n",
      " dense_13 (Dense)            (None, 10)                1010      \n",
      "                                                                 \n",
      "=================================================================\n",
      "Total params: 45,360\n",
      "Trainable params: 45,360\n",
      "Non-trainable params: 0\n",
      "_________________________________________________________________\n"
     ]
    }
   ],
   "source": [
    "model.summary()"
   ]
  },
  {
   "cell_type": "code",
   "execution_count": 46,
   "metadata": {
    "id": "xKANuaJcIcnF"
   },
   "outputs": [],
   "source": [
    "model.compile(loss='categorical_crossentropy',\n",
    "              optimizer=tf.optimizers.Adagrad(learning_rate=0.005),\n",
    "              metrics=['accuracy'])"
   ]
  },
  {
   "cell_type": "code",
   "execution_count": 47,
   "metadata": {
    "colab": {
     "base_uri": "https://localhost:8080/"
    },
    "id": "vuAv5z9PIcnF",
    "outputId": "8dfa7927-7156-4e01-a84c-737e7cef8bd7"
   },
   "outputs": [
    {
     "name": "stdout",
     "output_type": "stream",
     "text": [
      "Epoch 1/10\n",
      "2400/2400 [==============================] - 2s 609us/step - loss: 0.5954 - accuracy: 0.8409 - val_loss: 0.3389 - val_accuracy: 0.9037\n",
      "Epoch 2/10\n",
      "2400/2400 [==============================] - 2s 678us/step - loss: 0.3084 - accuracy: 0.9121 - val_loss: 0.2853 - val_accuracy: 0.9178\n",
      "Epoch 3/10\n",
      "2400/2400 [==============================] - 2s 709us/step - loss: 0.2654 - accuracy: 0.9252 - val_loss: 0.2561 - val_accuracy: 0.9269\n",
      "Epoch 4/10\n",
      "2400/2400 [==============================] - 1s 572us/step - loss: 0.2400 - accuracy: 0.9318 - val_loss: 0.2386 - val_accuracy: 0.9323\n",
      "Epoch 5/10\n",
      "2400/2400 [==============================] - 1s 534us/step - loss: 0.2216 - accuracy: 0.9368 - val_loss: 0.2208 - val_accuracy: 0.9377\n",
      "Epoch 6/10\n",
      "2400/2400 [==============================] - 2s 679us/step - loss: 0.2067 - accuracy: 0.9413 - val_loss: 0.2098 - val_accuracy: 0.9393\n",
      "Epoch 7/10\n",
      "2400/2400 [==============================] - 2s 888us/step - loss: 0.1947 - accuracy: 0.9446 - val_loss: 0.1996 - val_accuracy: 0.9428\n",
      "Epoch 8/10\n",
      "2400/2400 [==============================] - 2s 895us/step - loss: 0.1847 - accuracy: 0.9473 - val_loss: 0.1916 - val_accuracy: 0.9449\n",
      "Epoch 9/10\n",
      "2400/2400 [==============================] - 2s 724us/step - loss: 0.1759 - accuracy: 0.9497 - val_loss: 0.1847 - val_accuracy: 0.9472\n",
      "Epoch 10/10\n",
      "2400/2400 [==============================] - 1s 616us/step - loss: 0.1687 - accuracy: 0.9512 - val_loss: 0.1785 - val_accuracy: 0.9477\n"
     ]
    }
   ],
   "source": [
    "history = model.fit(X_train, y_train,\n",
    "                    batch_size=batch_size,\n",
    "                    epochs=num_epochs,\n",
    "                    validation_data=(X_val, y_val),\n",
    "                    verbose=1)"
   ]
  },
  {
   "cell_type": "code",
   "execution_count": 48,
   "metadata": {
    "colab": {
     "base_uri": "https://localhost:8080/"
    },
    "id": "RFCBnVm3IcnF",
    "outputId": "442f2767-330e-4409-9525-8d804769dd38"
   },
   "outputs": [
    {
     "name": "stdout",
     "output_type": "stream",
     "text": [
      "Train loss: 0.1630939543247223\n",
      "Train accuracy: 0.9531458616256714\n",
      "Test loss: 0.1720542162656784\n",
      "Test accuracy: 0.9491999745368958\n"
     ]
    }
   ],
   "source": [
    "train_score = model.evaluate(X_train, y_train, verbose=0)\n",
    "test_score = model.evaluate(X_test, y_test_one_hot, verbose = 0)\n",
    "print('Train loss:', train_score[0])\n",
    "print('Train accuracy:', train_score[1])\n",
    "print('Test loss:', test_score[0])\n",
    "print('Test accuracy:', test_score[1])"
   ]
  },
  {
   "cell_type": "code",
   "execution_count": null,
   "metadata": {},
   "outputs": [],
   "source": []
  }
 ],
 "metadata": {
  "accelerator": "GPU",
  "colab": {
   "collapsed_sections": [],
   "name": "keras.ipynb",
   "provenance": []
  },
  "kernelspec": {
   "display_name": "Python 3 (ipykernel)",
   "language": "python",
   "name": "python3"
  },
  "language_info": {
   "codemirror_mode": {
    "name": "ipython",
    "version": 3
   },
   "file_extension": ".py",
   "mimetype": "text/x-python",
   "name": "python",
   "nbconvert_exporter": "python",
   "pygments_lexer": "ipython3",
   "version": "3.10.12"
  }
 },
 "nbformat": 4,
 "nbformat_minor": 4
}
